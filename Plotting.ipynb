{
 "cells": [
  {
   "cell_type": "code",
   "execution_count": 1,
   "metadata": {},
   "outputs": [],
   "source": [
    "import torch \n",
    "import time\n",
    "import numpy as np\n",
    "from torchsummary import summary\n",
    "\n",
    "from sde import VPSDE\n",
    "from configs.config import CFGS\n",
    "from models.unet import UNet\n",
    "from sampling import get_sampler"
   ]
  },
  {
   "cell_type": "markdown",
   "metadata": {},
   "source": [
    "## Model summary"
   ]
  },
  {
   "cell_type": "code",
   "execution_count": 2,
   "metadata": {},
   "outputs": [],
   "source": [
    "model_config = CFGS[\"model\"]\n",
    "model = UNet(**model_config).to(\"cuda\")"
   ]
  },
  {
   "cell_type": "code",
   "execution_count": 3,
   "metadata": {
    "scrolled": false
   },
   "outputs": [
    {
     "name": "stdout",
     "output_type": "stream",
     "text": [
      "==========================================================================================\n",
      "Layer (type:depth-idx)                   Output Shape              Param #\n",
      "==========================================================================================\n",
      "├─Sequential: 1-1                        [-1, 256]                 --\n",
      "|    └─Linear: 2-1                       [-1, 256]                 16,640\n",
      "|    └─SiLU: 2-2                         [-1, 256]                 --\n",
      "|    └─Linear: 2-3                       [-1, 256]                 65,792\n",
      "├─ModuleList: 1                          []                        --\n",
      "|    └─EmbedSequential: 2-4              [-1, 64, 64, 64]          --\n",
      "|    |    └─Conv2d: 3-1                  [-1, 64, 64, 64]          3,520\n",
      "|    └─EmbedSequential: 2-5              [-1, 64, 64, 64]          --\n",
      "|    |    └─ResBlock: 3-2                [-1, 64, 64, 64]          107,008\n",
      "|    └─EmbedSequential: 2-6              [-1, 64, 64, 64]          --\n",
      "|    |    └─ResBlock: 3-3                [-1, 64, 64, 64]          107,008\n",
      "|    └─EmbedSequential: 2-7              [-1, 64, 32, 32]          --\n",
      "|    |    └─ResBlock: 3-4                [-1, 64, 32, 32]          107,008\n",
      "|    └─EmbedSequential: 2-8              [-1, 128, 32, 32]         --\n",
      "|    |    └─ResBlock: 3-5                [-1, 128, 32, 32]         295,936\n",
      "|    └─EmbedSequential: 2-9              [-1, 128, 32, 32]         --\n",
      "|    |    └─ResBlock: 3-6                [-1, 128, 32, 32]         361,472\n",
      "|    └─EmbedSequential: 2-10             [-1, 128, 16, 16]         --\n",
      "|    |    └─ResBlock: 3-7                [-1, 128, 16, 16]         361,472\n",
      "|    └─EmbedSequential: 2-11             [-1, 256, 16, 16]         --\n",
      "|    |    └─ResBlock: 3-8                [-1, 256, 16, 16]         1,050,624\n",
      "|    └─EmbedSequential: 2-12             [-1, 256, 16, 16]         --\n",
      "|    |    └─ResBlock: 3-9                [-1, 256, 16, 16]         1,312,768\n",
      "|    └─EmbedSequential: 2-13             [-1, 256, 8, 8]           --\n",
      "|    |    └─ResBlock: 3-10               [-1, 256, 8, 8]           1,312,768\n",
      "|    └─EmbedSequential: 2-14             [-1, 512, 8, 8]           --\n",
      "|    |    └─ResBlock: 3-11               [-1, 512, 8, 8]           3,936,256\n",
      "|    └─EmbedSequential: 2-15             [-1, 512, 8, 8]           --\n",
      "|    |    └─ResBlock: 3-12               [-1, 512, 8, 8]           4,984,832\n",
      "├─EmbedSequential: 1-2                   [-1, 512, 8, 8]           --\n",
      "|    └─ResBlock: 2-16                    [-1, 512, 8, 8]           --\n",
      "|    |    └─Sequential: 3-13             [-1, 512, 8, 8]           2,360,832\n",
      "|    |    └─Sequential: 3-14             [-1, 1024]                263,168\n",
      "|    |    └─Identity: 3-15               [-1, 512, 8, 8]           --\n",
      "|    └─AttentionBlock: 2-17              [-1, 512, 8, 8]           --\n",
      "|    |    └─GroupNorm32: 3-16            [-1, 512, 64]             1,024\n",
      "|    |    └─Conv1d: 3-17                 [-1, 1536, 64]            787,968\n",
      "|    |    └─QKVAttentionLegacy: 3-18     [-1, 512, 64]             --\n",
      "|    |    └─Conv1d: 3-19                 [-1, 512, 64]             262,656\n",
      "|    └─ResBlock: 2-18                    [-1, 512, 8, 8]           --\n",
      "|    |    └─Sequential: 3-20             [-1, 512, 8, 8]           2,360,832\n",
      "|    |    └─Sequential: 3-21             [-1, 1024]                263,168\n",
      "|    |    └─Identity: 3-22               [-1, 512, 8, 8]           --\n",
      "├─ModuleList: 1                          []                        --\n",
      "|    └─EmbedSequential: 2-19             [-1, 512, 8, 8]           --\n",
      "|    |    └─ResBlock: 3-23               [-1, 512, 8, 8]           7,869,952\n",
      "|    └─EmbedSequential: 2-20             [-1, 512, 8, 8]           --\n",
      "|    |    └─ResBlock: 3-24               [-1, 512, 8, 8]           7,869,952\n",
      "|    └─EmbedSequential: 2-21             [-1, 512, 16, 16]         --\n",
      "|    |    └─ResBlock: 3-25               [-1, 512, 8, 8]           6,558,720\n",
      "|    |    └─ResBlock: 3-26               [-1, 512, 16, 16]         4,984,832\n",
      "|    └─EmbedSequential: 2-22             [-1, 256, 16, 16]         --\n",
      "|    |    └─ResBlock: 3-27               [-1, 256, 16, 16]         2,690,304\n",
      "|    └─EmbedSequential: 2-23             [-1, 256, 16, 16]         --\n",
      "|    |    └─ResBlock: 3-28               [-1, 256, 16, 16]         2,034,432\n",
      "|    └─EmbedSequential: 2-24             [-1, 256, 32, 32]         --\n",
      "|    |    └─ResBlock: 3-29               [-1, 256, 16, 16]         1,706,496\n",
      "|    |    └─ResBlock: 3-30               [-1, 256, 32, 32]         1,312,768\n",
      "|    └─EmbedSequential: 2-25             [-1, 128, 32, 32]         --\n",
      "|    |    └─ResBlock: 3-31               [-1, 128, 32, 32]         706,176\n",
      "|    └─EmbedSequential: 2-26             [-1, 128, 32, 32]         --\n",
      "|    |    └─ResBlock: 3-32               [-1, 128, 32, 32]         542,080\n",
      "|    └─EmbedSequential: 2-27             [-1, 128, 64, 64]         --\n",
      "|    |    └─ResBlock: 3-33               [-1, 128, 32, 32]         460,032\n",
      "|    |    └─ResBlock: 3-34               [-1, 128, 64, 64]         361,472\n",
      "|    └─EmbedSequential: 2-28             [-1, 64, 64, 64]          --\n",
      "|    |    └─ResBlock: 3-35               [-1, 64, 64, 64]          193,344\n",
      "|    └─EmbedSequential: 2-29             [-1, 64, 64, 64]          --\n",
      "|    |    └─ResBlock: 3-36               [-1, 64, 64, 64]          152,256\n",
      "|    └─EmbedSequential: 2-30             [-1, 64, 64, 64]          --\n",
      "|    |    └─ResBlock: 3-37               [-1, 64, 64, 64]          152,256\n",
      "├─Sequential: 1-3                        [-1, 3, 64, 64]           --\n",
      "|    └─GroupNorm32: 2-31                 [-1, 64, 64, 64]          128\n",
      "|    └─SiLU: 2-32                        [-1, 64, 64, 64]          --\n",
      "|    └─Conv2d: 2-33                      [-1, 3, 64, 64]           1,731\n",
      "==========================================================================================\n",
      "Total params: 57,919,683\n",
      "Trainable params: 57,919,683\n",
      "Non-trainable params: 0\n",
      "Total mult-adds (G): 1.30\n",
      "==========================================================================================\n",
      "Input size (MB): 0.09\n",
      "Forward/backward pass size (MB): 20.36\n",
      "Params size (MB): 220.95\n",
      "Estimated Total Size (MB): 241.40\n",
      "==========================================================================================\n"
     ]
    },
    {
     "data": {
      "text/plain": [
       "==========================================================================================\n",
       "Layer (type:depth-idx)                   Output Shape              Param #\n",
       "==========================================================================================\n",
       "├─Sequential: 1-1                        [-1, 256]                 --\n",
       "|    └─Linear: 2-1                       [-1, 256]                 16,640\n",
       "|    └─SiLU: 2-2                         [-1, 256]                 --\n",
       "|    └─Linear: 2-3                       [-1, 256]                 65,792\n",
       "├─ModuleList: 1                          []                        --\n",
       "|    └─EmbedSequential: 2-4              [-1, 64, 64, 64]          --\n",
       "|    |    └─Conv2d: 3-1                  [-1, 64, 64, 64]          3,520\n",
       "|    └─EmbedSequential: 2-5              [-1, 64, 64, 64]          --\n",
       "|    |    └─ResBlock: 3-2                [-1, 64, 64, 64]          107,008\n",
       "|    └─EmbedSequential: 2-6              [-1, 64, 64, 64]          --\n",
       "|    |    └─ResBlock: 3-3                [-1, 64, 64, 64]          107,008\n",
       "|    └─EmbedSequential: 2-7              [-1, 64, 32, 32]          --\n",
       "|    |    └─ResBlock: 3-4                [-1, 64, 32, 32]          107,008\n",
       "|    └─EmbedSequential: 2-8              [-1, 128, 32, 32]         --\n",
       "|    |    └─ResBlock: 3-5                [-1, 128, 32, 32]         295,936\n",
       "|    └─EmbedSequential: 2-9              [-1, 128, 32, 32]         --\n",
       "|    |    └─ResBlock: 3-6                [-1, 128, 32, 32]         361,472\n",
       "|    └─EmbedSequential: 2-10             [-1, 128, 16, 16]         --\n",
       "|    |    └─ResBlock: 3-7                [-1, 128, 16, 16]         361,472\n",
       "|    └─EmbedSequential: 2-11             [-1, 256, 16, 16]         --\n",
       "|    |    └─ResBlock: 3-8                [-1, 256, 16, 16]         1,050,624\n",
       "|    └─EmbedSequential: 2-12             [-1, 256, 16, 16]         --\n",
       "|    |    └─ResBlock: 3-9                [-1, 256, 16, 16]         1,312,768\n",
       "|    └─EmbedSequential: 2-13             [-1, 256, 8, 8]           --\n",
       "|    |    └─ResBlock: 3-10               [-1, 256, 8, 8]           1,312,768\n",
       "|    └─EmbedSequential: 2-14             [-1, 512, 8, 8]           --\n",
       "|    |    └─ResBlock: 3-11               [-1, 512, 8, 8]           3,936,256\n",
       "|    └─EmbedSequential: 2-15             [-1, 512, 8, 8]           --\n",
       "|    |    └─ResBlock: 3-12               [-1, 512, 8, 8]           4,984,832\n",
       "├─EmbedSequential: 1-2                   [-1, 512, 8, 8]           --\n",
       "|    └─ResBlock: 2-16                    [-1, 512, 8, 8]           --\n",
       "|    |    └─Sequential: 3-13             [-1, 512, 8, 8]           2,360,832\n",
       "|    |    └─Sequential: 3-14             [-1, 1024]                263,168\n",
       "|    |    └─Identity: 3-15               [-1, 512, 8, 8]           --\n",
       "|    └─AttentionBlock: 2-17              [-1, 512, 8, 8]           --\n",
       "|    |    └─GroupNorm32: 3-16            [-1, 512, 64]             1,024\n",
       "|    |    └─Conv1d: 3-17                 [-1, 1536, 64]            787,968\n",
       "|    |    └─QKVAttentionLegacy: 3-18     [-1, 512, 64]             --\n",
       "|    |    └─Conv1d: 3-19                 [-1, 512, 64]             262,656\n",
       "|    └─ResBlock: 2-18                    [-1, 512, 8, 8]           --\n",
       "|    |    └─Sequential: 3-20             [-1, 512, 8, 8]           2,360,832\n",
       "|    |    └─Sequential: 3-21             [-1, 1024]                263,168\n",
       "|    |    └─Identity: 3-22               [-1, 512, 8, 8]           --\n",
       "├─ModuleList: 1                          []                        --\n",
       "|    └─EmbedSequential: 2-19             [-1, 512, 8, 8]           --\n",
       "|    |    └─ResBlock: 3-23               [-1, 512, 8, 8]           7,869,952\n",
       "|    └─EmbedSequential: 2-20             [-1, 512, 8, 8]           --\n",
       "|    |    └─ResBlock: 3-24               [-1, 512, 8, 8]           7,869,952\n",
       "|    └─EmbedSequential: 2-21             [-1, 512, 16, 16]         --\n",
       "|    |    └─ResBlock: 3-25               [-1, 512, 8, 8]           6,558,720\n",
       "|    |    └─ResBlock: 3-26               [-1, 512, 16, 16]         4,984,832\n",
       "|    └─EmbedSequential: 2-22             [-1, 256, 16, 16]         --\n",
       "|    |    └─ResBlock: 3-27               [-1, 256, 16, 16]         2,690,304\n",
       "|    └─EmbedSequential: 2-23             [-1, 256, 16, 16]         --\n",
       "|    |    └─ResBlock: 3-28               [-1, 256, 16, 16]         2,034,432\n",
       "|    └─EmbedSequential: 2-24             [-1, 256, 32, 32]         --\n",
       "|    |    └─ResBlock: 3-29               [-1, 256, 16, 16]         1,706,496\n",
       "|    |    └─ResBlock: 3-30               [-1, 256, 32, 32]         1,312,768\n",
       "|    └─EmbedSequential: 2-25             [-1, 128, 32, 32]         --\n",
       "|    |    └─ResBlock: 3-31               [-1, 128, 32, 32]         706,176\n",
       "|    └─EmbedSequential: 2-26             [-1, 128, 32, 32]         --\n",
       "|    |    └─ResBlock: 3-32               [-1, 128, 32, 32]         542,080\n",
       "|    └─EmbedSequential: 2-27             [-1, 128, 64, 64]         --\n",
       "|    |    └─ResBlock: 3-33               [-1, 128, 32, 32]         460,032\n",
       "|    |    └─ResBlock: 3-34               [-1, 128, 64, 64]         361,472\n",
       "|    └─EmbedSequential: 2-28             [-1, 64, 64, 64]          --\n",
       "|    |    └─ResBlock: 3-35               [-1, 64, 64, 64]          193,344\n",
       "|    └─EmbedSequential: 2-29             [-1, 64, 64, 64]          --\n",
       "|    |    └─ResBlock: 3-36               [-1, 64, 64, 64]          152,256\n",
       "|    └─EmbedSequential: 2-30             [-1, 64, 64, 64]          --\n",
       "|    |    └─ResBlock: 3-37               [-1, 64, 64, 64]          152,256\n",
       "├─Sequential: 1-3                        [-1, 3, 64, 64]           --\n",
       "|    └─GroupNorm32: 2-31                 [-1, 64, 64, 64]          128\n",
       "|    └─SiLU: 2-32                        [-1, 64, 64, 64]          --\n",
       "|    └─Conv2d: 2-33                      [-1, 3, 64, 64]           1,731\n",
       "==========================================================================================\n",
       "Total params: 57,919,683\n",
       "Trainable params: 57,919,683\n",
       "Non-trainable params: 0\n",
       "Total mult-adds (G): 1.30\n",
       "==========================================================================================\n",
       "Input size (MB): 0.09\n",
       "Forward/backward pass size (MB): 20.36\n",
       "Params size (MB): 220.95\n",
       "Estimated Total Size (MB): 241.40\n",
       "=========================================================================================="
      ]
     },
     "execution_count": 3,
     "metadata": {},
     "output_type": "execute_result"
    }
   ],
   "source": [
    "x = torch.randn((1,6,64,64), device=\"cuda\")\n",
    "t = torch.rand(x.shape[0], device=\"cuda\")\n",
    "\n",
    "summary(model, x, t)"
   ]
  },
  {
   "cell_type": "markdown",
   "metadata": {},
   "source": [
    "## Hardware Summary"
   ]
  },
  {
   "cell_type": "code",
   "execution_count": 2,
   "metadata": {},
   "outputs": [
    {
     "name": "stdout",
     "output_type": "stream",
     "text": [
      "__CUDA Device Name: NVIDIA GeForce RTX 2080 Ti\n",
      "__CUDA Device Total Memory [GB]: 11.554586624\n"
     ]
    }
   ],
   "source": [
    "print('__CUDA Device Name:',torch.cuda.get_device_name(0))\n",
    "print('__CUDA Device Total Memory [GB]:',torch.cuda.get_device_properties(0).total_memory/1e9)"
   ]
  },
  {
   "cell_type": "markdown",
   "metadata": {},
   "source": [
    "## Sampling time for different image sizes."
   ]
  },
  {
   "cell_type": "code",
   "execution_count": null,
   "metadata": {},
   "outputs": [],
   "source": [
    "# Define the sde\n",
    "vpsde = VPSDE(N=10)\n",
    "\n",
    "def sampler_time(model, img_size, total_steps):\n",
    "\n",
    "    condition = torch.randn(1,3,img_size, img_size)\n",
    "    condition = condition.to(\"cuda\")\n",
    "    sampling_fn = get_sampler(sde=vpsde, shape=condition.shape)\n",
    "    times = list()\n",
    "    \n",
    "    for steps in total_steps:\n",
    "\n",
    "        start = time.time()       \n",
    "        with torch.no_grad():\n",
    "            sample = sampling_fn(model, condition, num_steps=steps)\n",
    "        end = time.time()\n",
    "        elapsed = end - start\n",
    "        times.append(elapsed)\n",
    "        \n",
    "    return times"
   ]
  },
  {
   "cell_type": "code",
   "execution_count": null,
   "metadata": {},
   "outputs": [],
   "source": [
    "sampling_times = dict()\n",
    "\n",
    "total_steps = [int(i) for i in list(np.linspace(10, 2000, 8))] \n",
    "total_steps"
   ]
  },
  {
   "cell_type": "code",
   "execution_count": null,
   "metadata": {},
   "outputs": [],
   "source": [
    "# Config for 32 by 32 Image\n",
    "CFGS[\"model\"][\"image_size\"] = 32\n",
    "model_config = CFGS[\"model\"]\n",
    "model_32 = UNet(**model_config).to(\"cuda\")\n",
    "\n",
    "times_32 = sampler_time(model_32, img_size=32, total_steps=total_steps)\n",
    "sampling_times[\"32\"] = times_32"
   ]
  },
  {
   "cell_type": "code",
   "execution_count": null,
   "metadata": {},
   "outputs": [],
   "source": [
    "sampling_times"
   ]
  },
  {
   "cell_type": "code",
   "execution_count": null,
   "metadata": {},
   "outputs": [],
   "source": [
    "CFGS[\"model\"][\"image_size\"] = 64\n",
    "model_config = CFGS[\"model\"]\n",
    "model_64 = UNet(**model_config).to(\"cuda\")\n",
    "\n",
    "times_64 = sampler_time(model_64, img_size=64, total_steps=total_steps)\n",
    "sampling_times[\"64\"] = times_64"
   ]
  },
  {
   "cell_type": "code",
   "execution_count": null,
   "metadata": {},
   "outputs": [],
   "source": [
    "sampling_times"
   ]
  },
  {
   "cell_type": "code",
   "execution_count": null,
   "metadata": {},
   "outputs": [],
   "source": [
    "CFGS[\"model\"][\"image_size\"] = 128\n",
    "model_config = CFGS[\"model\"]\n",
    "model_128 = UNet(**model_config).to(\"cuda\")\n",
    "\n",
    "times_128 = sampler_time(model_128, img_size=128, total_steps=total_steps)\n",
    "sampling_times[\"128\"] = times_128"
   ]
  },
  {
   "cell_type": "code",
   "execution_count": null,
   "metadata": {},
   "outputs": [],
   "source": [
    "CFGS[\"model\"][\"image_size\"] = 256\n",
    "model_config = CFGS[\"model\"]\n",
    "model_256 = UNet(**model_config).to(\"cuda\")\n",
    "\n",
    "times_256 = sampler_time(model_256, img_size=256, total_steps=total_steps)\n",
    "sampling_times[\"256\"] = times_256"
   ]
  },
  {
   "cell_type": "code",
   "execution_count": null,
   "metadata": {},
   "outputs": [],
   "source": [
    "sampling_times"
   ]
  },
  {
   "cell_type": "code",
   "execution_count": null,
   "metadata": {},
   "outputs": [],
   "source": [
    "import matplotlib.pyplot as plt\n",
    "\n",
    "fig, ax = plt.subplots(figsize=(7, 5))\n",
    "\n",
    "ax.plot(total_steps, sampling_times[\"32\"], marker='o', color='c', linewidth=2, label='$32~by~32$')\n",
    "ax.plot(total_steps, sampling_times[\"64\"], marker='o', color='y', linewidth=2,  label='$64~by~64$')\n",
    "ax.plot(total_steps, sampling_times[\"128\"], marker='o', linewidth=2,  label='$128~by~128$')\n",
    "ax.plot(total_steps, sampling_times[\"256\"], marker='o', linewidth=2,  label='$256~by~256$')\n",
    "ax.set_title(label=\"Sampling time using EM Sampler\", fontdict={'fontsize':14})\n",
    "plt.xticks(total_steps)\n",
    "ax.set_xlabel('N (Steps)')\n",
    "ax.set_ylabel('Time (in sec)')\n",
    "plt.legend()\n",
    "plt.show()"
   ]
  },
  {
   "cell_type": "markdown",
   "metadata": {},
   "source": [
    "## Memory consuption of the EM sampler"
   ]
  },
  {
   "cell_type": "code",
   "execution_count": 5,
   "metadata": {},
   "outputs": [],
   "source": [
    "# Define the sde\n",
    "vpsde = VPSDE(N=10)\n",
    "\n",
    "def sampler_mem(model, img_size, total_steps, device=0, grad_track=True):\n",
    "    \n",
    "    model.to(device)\n",
    "    condition = torch.randn(1,3,img_size, img_size)\n",
    "    condition = condition.to(device)\n",
    "    sampling_fn = get_sampler(sde=vpsde, shape=condition.shape)\n",
    "    \n",
    "    if grad_track:\n",
    "        start = torch.cuda.memory_allocated(device)         \n",
    "        sample = sampling_fn(model, condition, num_steps=total_steps)\n",
    "        end = torch.cuda.memory_allocated(device)\n",
    "    else: \n",
    "        with torch.no_grad():\n",
    "            start = torch.cuda.memory_allocated(device)         \n",
    "            sample = sampling_fn(model, condition, num_steps=total_steps)\n",
    "            end = torch.cuda.memory_allocated(device)\n",
    "        \n",
    "    consumed = (end - start)/1e6\n",
    "    print(f\"Memory Consumption of sampler for img size:{img_size} and N steps:{total_steps} = {consumed}\")\n",
    "        \n",
    "    return consumed"
   ]
  },
  {
   "cell_type": "code",
   "execution_count": 7,
   "metadata": {},
   "outputs": [
    {
     "name": "stdout",
     "output_type": "stream",
     "text": [
      "Memory Consumption of sampler for img size:32 and N steps:10 = 403.887616\n",
      "Memory Consumption of sampler for img size:32 and N steps:50 = 2019.390976\n",
      "Memory Consumption of sampler for img size:32 and N steps:100 = 0.012288\n",
      "Memory Consumption of sampler for img size:32 and N steps:1000 = 0.012288\n",
      "Memory Consumption of sampler for img size:32 and N steps:1500 = 0.012288\n"
     ]
    },
    {
     "data": {
      "text/plain": [
       "0.012288"
      ]
     },
     "execution_count": 7,
     "metadata": {},
     "output_type": "execute_result"
    }
   ],
   "source": [
    "CFGS[\"model\"][\"image_size\"] = 32\n",
    "model_config = CFGS[\"model\"]\n",
    "model_32 = UNet(**model_config)\n",
    "\n",
    "sampler_mem(model_32, img_size=32, total_steps=10)\n",
    "sampler_mem(model_32, img_size=32, total_steps=50)\n",
    "sampler_mem(model_32, img_size=32, total_steps=100, grad_track=False)\n",
    "sampler_mem(model_32, img_size=32, total_steps=1000, grad_track=False)\n",
    "sampler_mem(model_32, img_size=32, total_steps=1500, grad_track=False)"
   ]
  },
  {
   "cell_type": "code",
   "execution_count": 8,
   "metadata": {},
   "outputs": [
    {
     "name": "stdout",
     "output_type": "stream",
     "text": [
      "Memory Consumption of sampler for img size:64 and N steps:10 = 1610.97472\n",
      "Memory Consumption of sampler for img size:64 and N steps:50 = 8060.970496\n",
      "Memory Consumption of sampler for img size:64 and N steps:100 = 0.049152\n",
      "Memory Consumption of sampler for img size:64 and N steps:500 = 0.049152\n",
      "Memory Consumption of sampler for img size:64 and N steps:1500 = 0.049152\n"
     ]
    },
    {
     "data": {
      "text/plain": [
       "0.049152"
      ]
     },
     "execution_count": 8,
     "metadata": {},
     "output_type": "execute_result"
    }
   ],
   "source": [
    "CFGS[\"model\"][\"image_size\"] = 64\n",
    "model_config = CFGS[\"model\"]\n",
    "model_64 = UNet(**model_config)\n",
    "\n",
    "sampler_mem(model_64, img_size=64, total_steps=10)\n",
    "sampler_mem(model_64, img_size=64, total_steps=50)\n",
    "sampler_mem(model_64, img_size=64, total_steps=100, grad_track=False)\n",
    "sampler_mem(model_64, img_size=64, total_steps=500, grad_track=False)\n",
    "sampler_mem(model_64, img_size=64, total_steps=1500, grad_track=False)"
   ]
  },
  {
   "cell_type": "code",
   "execution_count": 9,
   "metadata": {},
   "outputs": [
    {
     "name": "stdout",
     "output_type": "stream",
     "text": [
      "Memory Consumption of sampler for img size:128 and N steps:10 = 6465.668608\n",
      "Memory Consumption of sampler for img size:128 and N steps:10 = 0.196608\n",
      "Memory Consumption of sampler for img size:128 and N steps:50 = 0.196608\n",
      "Memory Consumption of sampler for img size:128 and N steps:100 = 0.196608\n",
      "Memory Consumption of sampler for img size:128 and N steps:500 = 0.196608\n",
      "Memory Consumption of sampler for img size:128 and N steps:1500 = 0.196608\n"
     ]
    },
    {
     "data": {
      "text/plain": [
       "0.196608"
      ]
     },
     "execution_count": 9,
     "metadata": {},
     "output_type": "execute_result"
    }
   ],
   "source": [
    "CFGS[\"model\"][\"image_size\"] = 128\n",
    "model_config = CFGS[\"model\"]\n",
    "model_128 = UNet(**model_config)\n",
    "\n",
    "sampler_mem(model_128, img_size=128, total_steps=10)\n",
    "#sampler_mem(model_128, img_size=128, total_steps=50)\n",
    "sampler_mem(model_128, img_size=128, total_steps=10, grad_track=False)\n",
    "sampler_mem(model_128, img_size=128, total_steps=50, grad_track=False)\n",
    "sampler_mem(model_128, img_size=128, total_steps=100, grad_track=False)\n",
    "sampler_mem(model_128, img_size=128, total_steps=500, grad_track=False)\n",
    "sampler_mem(model_128, img_size=128, total_steps=1500, grad_track=False)"
   ]
  },
  {
   "cell_type": "code",
   "execution_count": 19,
   "metadata": {},
   "outputs": [
    {
     "data": {
      "image/png": "[encoded data removed]",
      "text/plain": [
       "<Figure size 432x288 with 1 Axes>"
      ]
     },
     "metadata": {
      "needs_background": "light"
     },
     "output_type": "display_data"
    }
   ],
   "source": [
    "# Import Library\n",
    "\n",
    "import numpy as np \n",
    "import matplotlib.pyplot as plt \n",
    "\n",
    "# Define Data\n",
    "\n",
    "img_sizes = ['32', '64','128']\n",
    "step_10 = [403.887616, 1622.050304, 6460.294656]\n",
    "step_50 = [2019.390976, 8078.337536, 0]\n",
    "width = 0.2\n",
    "\n",
    "x_axis = np.arange(len(img_sizes))\n",
    "\n",
    "# Multi bar Chart\n",
    "\n",
    "plt.bar(x_axis - 0.1, step_10, width=width, label = '$N=10$', color='lightseagreen')\n",
    "plt.bar(x_axis +0.1, step_50, width=width, label = '$N=50$', color='darksalmon')\n",
    "\n",
    "# Xticks\n",
    "\n",
    "plt.xticks(x_axis, img_sizes)\n",
    "\n",
    "# Add labels\n",
    "\n",
    "plt.xlabel(\"Image Sizes\")\n",
    "plt.ylabel(\"Memory(in MB)\")\n",
    "\n",
    "# Add legend\n",
    "plt.ticklabel_format(axis=\"y\", style=\"sci\", scilimits=(0,0))\n",
    "\n",
    "plt.legend()\n",
    "plt.title(\"Memory Consumption (Gradient Tracking On)\")\n",
    "\n",
    "# Display\n",
    "\n",
    "plt.show()"
   ]
  },
  {
   "cell_type": "code",
   "execution_count": 22,
   "metadata": {},
   "outputs": [
    {
     "data": {
      "image/png": "[encoded data removed]",
      "text/plain": [
       "<Figure size 432x288 with 1 Axes>"
      ]
     },
     "metadata": {
      "needs_background": "light"
     },
     "output_type": "display_data"
    }
   ],
   "source": [
    "# Define Data\n",
    "\n",
    "img_sizes = ['32', '64','128']\n",
    "step_10 = [0.012288, 0.049152, 0.196608]\n",
    "step_50 = [0.012288, 0.049152, 0.196608]\n",
    "width = 0.2\n",
    "\n",
    "x_axis = np.arange(len(img_sizes))\n",
    "\n",
    "# Multi bar Chart\n",
    "\n",
    "plt.bar(x_axis - 0.1, step_10, width=width, label = '$N=10$', color='lightseagreen')\n",
    "plt.bar(x_axis +0.1, step_50, width=width, label = '$N=50$', color='darksalmon')\n",
    "\n",
    "# Xticks\n",
    "\n",
    "plt.xticks(x_axis, img_sizes)\n",
    "\n",
    "# Add labels\n",
    "\n",
    "plt.xlabel(\"Image Sizes\")\n",
    "plt.ylabel(\"Memory(in MB)\")\n",
    "\n",
    "# Add legend\n",
    "plt.ticklabel_format(axis=\"y\", style=\"sci\", scilimits=(0,0))\n",
    "\n",
    "plt.legend()\n",
    "plt.title(\"Memory Consumption (Gradient Tracking Off)\")\n",
    "\n",
    "# Display \n",
    "plt.show()"
   ]
  },
  {
   "cell_type": "code",
   "execution_count": null,
   "metadata": {},
   "outputs": [],
   "source": []
  }
 ],
 "metadata": {
  "kernelspec": {
   "display_name": "mykernel",
   "language": "python",
   "name": "mykernel"
  },
  "language_info": {
   "codemirror_mode": {
    "name": "ipython",
    "version": 3
   },
   "file_extension": ".py",
   "mimetype": "text/x-python",
   "name": "python",
   "nbconvert_exporter": "python",
   "pygments_lexer": "ipython3",
   "version": "3.8.11"
  }
 },
 "nbformat": 4,
 "nbformat_minor": 4
}
