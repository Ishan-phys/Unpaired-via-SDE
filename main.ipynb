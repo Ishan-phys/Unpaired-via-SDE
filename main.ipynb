{
 "cells": [
  {
   "cell_type": "markdown",
   "metadata": {},
   "source": [
    "### Load the modules, classes and configs"
   ]
  },
  {
   "cell_type": "code",
   "execution_count": 1,
   "metadata": {},
   "outputs": [],
   "source": [
    "import os\n",
    "import torch \n",
    "import torch.optim as optim\n",
    "from torch.utils.data import DataLoader\n",
    "from torchvision.transforms import Compose, ToTensor, Normalize, Resize\n",
    "\n",
    "from sde import VPSDE\n",
    "from models.unet import UNet\n",
    "from loss import get_sde_loss_fn\n",
    "from configs.config import CFGS\n",
    "from train import Step_by_Step\n",
    "from dataset import myDataset"
   ]
  },
  {
   "cell_type": "markdown",
   "metadata": {},
   "source": [
    "### Setup the stochastic differential equation"
   ]
  },
  {
   "cell_type": "code",
   "execution_count": 2,
   "metadata": {},
   "outputs": [],
   "source": [
    "# Define the sde\n",
    "vpsde = VPSDE(N=10)"
   ]
  },
  {
   "cell_type": "markdown",
   "metadata": {},
   "source": [
    "### Setup the score model"
   ]
  },
  {
   "cell_type": "code",
   "execution_count": 3,
   "metadata": {},
   "outputs": [],
   "source": [
    "# Define the models\n",
    "model_config = CFGS[\"model\"]\n",
    "model_xy = UNet(**model_config)\n",
    "model_yx = UNet(**model_config)\n",
    "\n",
    "models = (model_xy, model_yx)"
   ]
  },
  {
   "cell_type": "markdown",
   "metadata": {},
   "source": [
    "### Setup the loss function for the model"
   ]
  },
  {
   "cell_type": "code",
   "execution_count": 4,
   "metadata": {},
   "outputs": [],
   "source": [
    "# Define the loss function\n",
    "loss_fn = get_sde_loss_fn(sde=vpsde)"
   ]
  },
  {
   "cell_type": "markdown",
   "metadata": {},
   "source": [
    "### Setup the optimizer"
   ]
  },
  {
   "cell_type": "code",
   "execution_count": 5,
   "metadata": {},
   "outputs": [],
   "source": [
    "# Define the optimizer\n",
    "optimizer_xy = optim.Adam(model_xy.parameters(), lr=CFGS[\"optim\"][\"lr\"], betas=(CFGS[\"optim\"][\"beta1\"], 0.999), \n",
    "                       eps=CFGS[\"optim\"][\"eps\"], weight_decay=CFGS[\"optim\"][\"weight_decay\"])\n",
    "\n",
    "optimizer_yx = optim.Adam(model_yx.parameters(), lr=CFGS[\"optim\"][\"lr\"], betas=(CFGS[\"optim\"][\"beta1\"], 0.999), \n",
    "                       eps=CFGS[\"optim\"][\"eps\"], weight_decay=CFGS[\"optim\"][\"weight_decay\"])\n",
    "\n",
    "optimizers = (optimizer_xy, optimizer_yx)"
   ]
  },
  {
   "cell_type": "markdown",
   "metadata": {},
   "source": [
    "### Setup the training"
   ]
  },
  {
   "cell_type": "code",
   "execution_count": 6,
   "metadata": {},
   "outputs": [],
   "source": [
    "# Instantiate the step by step class\n",
    "sbs = Step_by_Step(sde=vpsde, models=models, loss_fn=loss_fn, optimizers=optimizers, config=CFGS)"
   ]
  },
  {
   "cell_type": "markdown",
   "metadata": {},
   "source": [
    "### Load the dataset into dataloaders"
   ]
  },
  {
   "cell_type": "code",
   "execution_count": 7,
   "metadata": {},
   "outputs": [],
   "source": [
    "dataset_dir = \"./datasets/horse2zebra\"\n",
    "img_size = CFGS[\"model\"][\"image_size\"]\n",
    "\n",
    "transforms = Compose(\n",
    "    [Resize((img_size, img_size)),\n",
    "     ToTensor(),\n",
    "     Normalize((0.5, 0.5, 0.5), (0.5, 0.5, 0.5)),\n",
    "    ]\n",
    ")\n",
    "\n",
    "train_dataset = myDataset(\n",
    "    root_A= os.path.join(dataset_dir, \"trainA\"),\n",
    "    root_B= os.path.join(dataset_dir, \"trainB\"),\n",
    "    transform=transforms\n",
    ")\n",
    "\n",
    "# validation_dataset = myDataset(\n",
    "#     root_A= os.path.join(dataset_dir, \"valA\"),\n",
    "#     root_B= os.path.join(dataset_dir, \"valB\"),\n",
    "#     transform=transforms\n",
    "\n",
    "# )\n",
    "\n",
    "train_loader = DataLoader(\n",
    "    train_dataset,\n",
    "    batch_size=CFGS[\"training\"][\"batch_size\"],\n",
    "    num_workers = 4,\n",
    "    pin_memory=True,\n",
    "    drop_last=True,\n",
    "    shuffle=True\n",
    ")\n",
    "\n",
    "# val_loader = DataLoader(\n",
    "#     validation_dataset,\n",
    "#     batch_size=CFGS[\"training\"][\"batch_size\"],\n",
    "#     num_workers = 4,\n",
    "#     pin_memory=True\n",
    "# )"
   ]
  },
  {
   "cell_type": "code",
   "execution_count": 8,
   "metadata": {},
   "outputs": [],
   "source": [
    "# Set the data loaders\n",
    "sbs.set_loaders(train_loader=train_loader)\n",
    "#sbs.set_tensorboard(\"train\")"
   ]
  },
  {
   "cell_type": "code",
   "execution_count": 9,
   "metadata": {},
   "outputs": [],
   "source": [
    "# Load the model from the previous checkpoint\n",
    "#sbs.load_checkpoint(\"./checkpoints/checkpoint.pth\")"
   ]
  },
  {
   "cell_type": "code",
   "execution_count": 10,
   "metadata": {
    "scrolled": false
   },
   "outputs": [
    {
     "name": "stderr",
     "output_type": "stream",
     "text": [
      "Train Epoch: 402: 100%|██████████| 128/128 [05:24<00:00,  2.53s/batch]\n",
      "Train Epoch: 403: 100%|██████████| 128/128 [05:23<00:00,  2.53s/batch]\n",
      "Train Epoch: 404: 100%|██████████| 128/128 [05:22<00:00,  2.52s/batch]\n",
      "Train Epoch: 405: 100%|██████████| 128/128 [05:22<00:00,  2.52s/batch]\n",
      "Train Epoch: 406: 100%|██████████| 128/128 [05:22<00:00,  2.52s/batch]\n",
      "Train Epoch: 407: 100%|██████████| 128/128 [05:22<00:00,  2.52s/batch]\n",
      "Train Epoch: 408: 100%|██████████| 128/128 [05:22<00:00,  2.52s/batch]\n",
      "Train Epoch: 409: 100%|██████████| 128/128 [05:22<00:00,  2.52s/batch]\n",
      "Train Epoch: 410: 100%|██████████| 128/128 [05:22<00:00,  2.52s/batch]\n",
      "Train Epoch: 411: 100%|██████████| 128/128 [05:22<00:00,  2.52s/batch]\n",
      "Train Epoch: 412: 100%|██████████| 128/128 [05:23<00:00,  2.52s/batch]\n",
      "Train Epoch: 413: 100%|██████████| 128/128 [05:23<00:00,  2.52s/batch]\n",
      "Train Epoch: 414: 100%|██████████| 128/128 [05:22<00:00,  2.52s/batch]\n",
      "Train Epoch: 415: 100%|██████████| 128/128 [05:22<00:00,  2.52s/batch]\n",
      "Train Epoch: 416: 100%|██████████| 128/128 [05:22<00:00,  2.52s/batch]\n",
      "Train Epoch: 417: 100%|██████████| 128/128 [05:23<00:00,  2.52s/batch]\n",
      "Train Epoch: 418: 100%|██████████| 128/128 [05:23<00:00,  2.52s/batch]\n",
      "Train Epoch: 419: 100%|██████████| 128/128 [05:22<00:00,  2.52s/batch]\n",
      "Train Epoch: 420: 100%|██████████| 128/128 [05:22<00:00,  2.52s/batch]\n",
      "Train Epoch: 421: 100%|██████████| 128/128 [05:22<00:00,  2.52s/batch]\n"
     ]
    },
    {
     "name": "stdout",
     "output_type": "stream",
     "text": [
      "Epochs Completed: 421\n",
      "Current Time: 23:56:49\n"
     ]
    },
    {
     "name": "stderr",
     "output_type": "stream",
     "text": [
      "Train Epoch: 422: 100%|██████████| 128/128 [05:21<00:00,  2.51s/batch]\n",
      "Train Epoch: 423: 100%|██████████| 128/128 [05:21<00:00,  2.51s/batch]\n",
      "Train Epoch: 424: 100%|██████████| 128/128 [05:22<00:00,  2.52s/batch]\n",
      "Train Epoch: 425: 100%|██████████| 128/128 [05:22<00:00,  2.52s/batch]\n",
      "Train Epoch: 426: 100%|██████████| 128/128 [05:21<00:00,  2.51s/batch]\n",
      "Train Epoch: 427: 100%|██████████| 128/128 [05:20<00:00,  2.51s/batch]\n",
      "Train Epoch: 428: 100%|██████████| 128/128 [05:20<00:00,  2.50s/batch]\n",
      "Train Epoch: 429: 100%|██████████| 128/128 [05:20<00:00,  2.50s/batch]\n",
      "Train Epoch: 430: 100%|██████████| 128/128 [05:20<00:00,  2.50s/batch]\n",
      "Train Epoch: 431: 100%|██████████| 128/128 [05:20<00:00,  2.50s/batch]\n",
      "Train Epoch: 432: 100%|██████████| 128/128 [05:20<00:00,  2.51s/batch]\n",
      "Train Epoch: 433: 100%|██████████| 128/128 [05:20<00:00,  2.50s/batch]\n",
      "Train Epoch: 434: 100%|██████████| 128/128 [05:20<00:00,  2.50s/batch]\n",
      "Train Epoch: 435: 100%|██████████| 128/128 [05:20<00:00,  2.51s/batch]\n",
      "Train Epoch: 436: 100%|██████████| 128/128 [05:20<00:00,  2.50s/batch]\n",
      "Train Epoch: 437: 100%|██████████| 128/128 [05:20<00:00,  2.50s/batch]\n",
      "Train Epoch: 438: 100%|██████████| 128/128 [05:20<00:00,  2.50s/batch]\n",
      "Train Epoch: 439: 100%|██████████| 128/128 [05:20<00:00,  2.50s/batch]\n",
      "Train Epoch: 440: 100%|██████████| 128/128 [05:21<00:00,  2.51s/batch]\n",
      "Train Epoch: 441: 100%|██████████| 128/128 [05:20<00:00,  2.51s/batch]\n"
     ]
    },
    {
     "name": "stdout",
     "output_type": "stream",
     "text": [
      "Epochs Completed: 441\n",
      "Current Time: 01:43:53\n"
     ]
    },
    {
     "name": "stderr",
     "output_type": "stream",
     "text": [
      "Train Epoch: 442: 100%|██████████| 128/128 [05:20<00:00,  2.51s/batch]\n",
      "Train Epoch: 443: 100%|██████████| 128/128 [05:21<00:00,  2.51s/batch]\n",
      "Train Epoch: 444: 100%|██████████| 128/128 [05:20<00:00,  2.51s/batch]\n",
      "Train Epoch: 445: 100%|██████████| 128/128 [05:20<00:00,  2.50s/batch]\n",
      "Train Epoch: 446: 100%|██████████| 128/128 [05:20<00:00,  2.50s/batch]\n",
      "Train Epoch: 447: 100%|██████████| 128/128 [05:20<00:00,  2.51s/batch]\n",
      "Train Epoch: 448: 100%|██████████| 128/128 [05:21<00:00,  2.51s/batch]\n",
      "Train Epoch: 449: 100%|██████████| 128/128 [05:21<00:00,  2.51s/batch]\n",
      "Train Epoch: 450: 100%|██████████| 128/128 [05:21<00:00,  2.51s/batch]\n",
      "Train Epoch: 451: 100%|██████████| 128/128 [05:21<00:00,  2.51s/batch]\n",
      "Train Epoch: 452: 100%|██████████| 128/128 [05:20<00:00,  2.50s/batch]\n",
      "Train Epoch: 453: 100%|██████████| 128/128 [05:20<00:00,  2.50s/batch]\n",
      "Train Epoch: 454: 100%|██████████| 128/128 [05:21<00:00,  2.51s/batch]\n",
      "Train Epoch: 455: 100%|██████████| 128/128 [05:20<00:00,  2.51s/batch]\n",
      "Train Epoch: 456: 100%|██████████| 128/128 [05:21<00:00,  2.51s/batch]\n",
      "Train Epoch: 457: 100%|██████████| 128/128 [05:21<00:00,  2.51s/batch]\n",
      "Train Epoch: 458: 100%|██████████| 128/128 [05:20<00:00,  2.51s/batch]\n",
      "Train Epoch: 459: 100%|██████████| 128/128 [05:21<00:00,  2.51s/batch]\n",
      "Train Epoch: 460: 100%|██████████| 128/128 [05:20<00:00,  2.50s/batch]\n",
      "Train Epoch: 461: 100%|██████████| 128/128 [05:20<00:00,  2.51s/batch]\n"
     ]
    },
    {
     "name": "stdout",
     "output_type": "stream",
     "text": [
      "Epochs Completed: 461\n",
      "Current Time: 03:30:57\n"
     ]
    },
    {
     "name": "stderr",
     "output_type": "stream",
     "text": [
      "Train Epoch: 462: 100%|██████████| 128/128 [05:21<00:00,  2.51s/batch]\n",
      "Train Epoch: 463: 100%|██████████| 128/128 [05:20<00:00,  2.51s/batch]\n",
      "Train Epoch: 464: 100%|██████████| 128/128 [05:20<00:00,  2.51s/batch]\n",
      "Train Epoch: 465: 100%|██████████| 128/128 [05:21<00:00,  2.51s/batch]\n",
      "Train Epoch: 466: 100%|██████████| 128/128 [05:20<00:00,  2.50s/batch]\n",
      "Train Epoch: 467: 100%|██████████| 128/128 [05:20<00:00,  2.50s/batch]\n",
      "Train Epoch: 468: 100%|██████████| 128/128 [05:21<00:00,  2.51s/batch]\n",
      "Train Epoch: 469: 100%|██████████| 128/128 [05:21<00:00,  2.51s/batch]\n",
      "Train Epoch: 470: 100%|██████████| 128/128 [05:21<00:00,  2.51s/batch]\n",
      "Train Epoch: 471: 100%|██████████| 128/128 [05:21<00:00,  2.51s/batch]\n",
      "Train Epoch: 472: 100%|██████████| 128/128 [05:21<00:00,  2.51s/batch]\n",
      "Train Epoch: 473: 100%|██████████| 128/128 [05:20<00:00,  2.50s/batch]\n",
      "Train Epoch: 474: 100%|██████████| 128/128 [05:20<00:00,  2.50s/batch]\n",
      "Train Epoch: 475: 100%|██████████| 128/128 [05:21<00:00,  2.51s/batch]\n",
      "Train Epoch: 476: 100%|██████████| 128/128 [05:21<00:00,  2.51s/batch]\n",
      "Train Epoch: 477: 100%|██████████| 128/128 [05:20<00:00,  2.51s/batch]\n",
      "Train Epoch: 478: 100%|██████████| 128/128 [05:21<00:00,  2.51s/batch]\n",
      "Train Epoch: 479: 100%|██████████| 128/128 [05:22<00:00,  2.52s/batch]\n",
      "Train Epoch: 480: 100%|██████████| 128/128 [05:20<00:00,  2.51s/batch]\n",
      "Train Epoch: 481: 100%|██████████| 128/128 [05:20<00:00,  2.51s/batch]\n"
     ]
    },
    {
     "name": "stdout",
     "output_type": "stream",
     "text": [
      "Epochs Completed: 481\n",
      "Current Time: 05:18:15\n"
     ]
    },
    {
     "name": "stderr",
     "output_type": "stream",
     "text": [
      "Train Epoch: 482: 100%|██████████| 128/128 [05:21<00:00,  2.51s/batch]\n",
      "Train Epoch: 483: 100%|██████████| 128/128 [05:22<00:00,  2.52s/batch]\n",
      "Train Epoch: 484: 100%|██████████| 128/128 [05:21<00:00,  2.51s/batch]\n",
      "Train Epoch: 485: 100%|██████████| 128/128 [05:21<00:00,  2.51s/batch]\n",
      "Train Epoch: 486: 100%|██████████| 128/128 [05:21<00:00,  2.51s/batch]\n",
      "Train Epoch: 487: 100%|██████████| 128/128 [05:20<00:00,  2.50s/batch]\n",
      "Train Epoch: 488: 100%|██████████| 128/128 [05:20<00:00,  2.51s/batch]\n",
      "Train Epoch: 489: 100%|██████████| 128/128 [05:20<00:00,  2.51s/batch]\n",
      "Train Epoch: 490: 100%|██████████| 128/128 [05:22<00:00,  2.52s/batch]\n",
      "Train Epoch: 491: 100%|██████████| 128/128 [05:22<00:00,  2.52s/batch]\n",
      "Train Epoch: 492: 100%|██████████| 128/128 [05:22<00:00,  2.52s/batch]\n",
      "Train Epoch: 493: 100%|██████████| 128/128 [05:22<00:00,  2.52s/batch]\n",
      "Train Epoch: 494: 100%|██████████| 128/128 [05:22<00:00,  2.52s/batch]\n",
      "Train Epoch: 495: 100%|██████████| 128/128 [05:20<00:00,  2.50s/batch]\n",
      "Train Epoch: 496: 100%|██████████| 128/128 [05:20<00:00,  2.50s/batch]\n",
      "Train Epoch: 497: 100%|██████████| 128/128 [05:20<00:00,  2.50s/batch]\n",
      "Train Epoch: 498: 100%|██████████| 128/128 [05:20<00:00,  2.50s/batch]\n",
      "Train Epoch: 499: 100%|██████████| 128/128 [05:20<00:00,  2.50s/batch]\n",
      "Train Epoch: 500: 100%|██████████| 128/128 [05:20<00:00,  2.50s/batch]\n",
      "Train Epoch: 501: 100%|██████████| 128/128 [05:20<00:00,  2.50s/batch]\n"
     ]
    },
    {
     "name": "stdout",
     "output_type": "stream",
     "text": [
      "Epochs Completed: 501\n",
      "Current Time: 07:05:25\n"
     ]
    }
   ],
   "source": [
    "sbs.train(501)"
   ]
  },
  {
   "cell_type": "code",
   "execution_count": 11,
   "metadata": {},
   "outputs": [
    {
     "data": {
      "image/png": "[encoded data removed]",
      "text/plain": [
       "<Figure size 720x288 with 1 Axes>"
      ]
     },
     "metadata": {
      "needs_background": "light"
     },
     "output_type": "display_data"
    }
   ],
   "source": [
    "sbs.plot_losses()"
   ]
  },
  {
   "cell_type": "code",
   "execution_count": 12,
   "metadata": {},
   "outputs": [
    {
     "data": {
      "text/plain": [
       "0.07463913026731461"
      ]
     },
     "execution_count": 12,
     "metadata": {},
     "output_type": "execute_result"
    }
   ],
   "source": [
    "sbs.losses[-1]"
   ]
  },
  {
   "cell_type": "markdown",
   "metadata": {},
   "source": [
    "## Model inference"
   ]
  },
  {
   "cell_type": "code",
   "execution_count": 26,
   "metadata": {},
   "outputs": [],
   "source": [
    "dataset_dir = \"./datasets/inference\"\n",
    "img_size = CFGS[\"model\"][\"image_size\"]\n",
    "\n",
    "transforms = Compose(\n",
    "    [Resize((img_size, img_size)),\n",
    "     ToTensor(),\n",
    "     Normalize((0.5, 0.5, 0.5), (0.5, 0.5, 0.5)),\n",
    "    ]\n",
    ")\n",
    "\n",
    "infer_dataset = myDataset(\n",
    "    root_A= os.path.join(dataset_dir, \"horses\"),\n",
    "    root_B= os.path.join(dataset_dir, \"zebra\"),\n",
    "    transform=transforms\n",
    ")\n",
    "\n",
    "inference_loader = DataLoader(infer_dataset, shuffle=True, batch_size=1)"
   ]
  },
  {
   "cell_type": "code",
   "execution_count": 27,
   "metadata": {},
   "outputs": [],
   "source": [
    "condition = next(iter(inference_loader))[1]"
   ]
  },
  {
   "cell_type": "code",
   "execution_count": 28,
   "metadata": {
    "scrolled": true
   },
   "outputs": [
    {
     "data": {
      "image/png": "[encoded data removed]",
      "text/plain": [
       "<Figure size 288x288 with 1 Axes>"
      ]
     },
     "metadata": {
      "needs_background": "light"
     },
     "output_type": "display_data"
    }
   ],
   "source": [
    "sbs.plot_samples(condition)"
   ]
  },
  {
   "cell_type": "code",
   "execution_count": 29,
   "metadata": {},
   "outputs": [],
   "source": [
    "samples_x = sbs.translate(target_domain=\"x\", condition=condition, num_steps=1500)"
   ]
  },
  {
   "cell_type": "code",
   "execution_count": 30,
   "metadata": {
    "scrolled": true
   },
   "outputs": [
    {
     "name": "stderr",
     "output_type": "stream",
     "text": [
      "Clipping input data to the valid range for imshow with RGB data ([0..1] for floats or [0..255] for integers).\n"
     ]
    },
    {
     "data": {
      "image/png": "[encoded data removed]",
      "text/plain": [
       "<Figure size 288x288 with 1 Axes>"
      ]
     },
     "metadata": {
      "needs_background": "light"
     },
     "output_type": "display_data"
    }
   ],
   "source": [
    "sbs.plot_samples(samples_x)"
   ]
  },
  {
   "cell_type": "code",
   "execution_count": null,
   "metadata": {},
   "outputs": [],
   "source": []
  }
 ],
 "metadata": {
  "kernelspec": {
   "display_name": "mykernel",
   "language": "python",
   "name": "mykernel"
  },
  "language_info": {
   "codemirror_mode": {
    "name": "ipython",
    "version": 3
   },
   "file_extension": ".py",
   "mimetype": "text/x-python",
   "name": "python",
   "nbconvert_exporter": "python",
   "pygments_lexer": "ipython3",
   "version": "3.8.11"
  }
 },
 "nbformat": 4,
 "nbformat_minor": 4
}
